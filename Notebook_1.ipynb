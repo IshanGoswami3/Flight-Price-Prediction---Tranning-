{
  "nbformat": 4,
  "nbformat_minor": 0,
  "metadata": {
    "kernelspec": {
      "display_name": "Python 3",
      "language": "python",
      "name": "python3"
    },
    "language_info": {
      "codemirror_mode": {
        "name": "ipython",
        "version": 3
      },
      "file_extension": ".py",
      "mimetype": "text/x-python",
      "name": "python",
      "nbconvert_exporter": "python",
      "pygments_lexer": "ipython3",
      "version": "3.7.6"
    },
    "colab": {
      "name": "Notebook-1.ipynb",
      "provenance": [],
      "include_colab_link": true
    }
  },
  "cells": [
    {
      "cell_type": "markdown",
      "metadata": {
        "id": "view-in-github",
        "colab_type": "text"
      },
      "source": [
        "<a href=\"https://colab.research.google.com/github/IshanGoswami3/Flight-Price-Prediction---Tranning-/blob/main/Notebook_1.ipynb\" target=\"_parent\"><img src=\"https://colab.research.google.com/assets/colab-badge.svg\" alt=\"Open In Colab\"/></a>"
      ]
    },
    {
      "cell_type": "markdown",
      "metadata": {
        "id": "sCrTtzjHouhU"
      },
      "source": [
        "BASIC INTRODUCTION TO LISTS,TUPLES,DICTIONARY,ITERABLES"
      ]
    },
    {
      "cell_type": "code",
      "metadata": {
        "id": "4XjXyVx6ouhZ",
        "outputId": "fdcb8fa0-e4cb-4c2c-a03b-ff8179555a32"
      },
      "source": [
        "# list can be thought of as an array of elements\n",
        "\n",
        "\n",
        "li = [] # empty list\n",
        "\n",
        "# adding some elements in a list using append method\n",
        "\n",
        "li.append(1)\n",
        "li.append(2)\n",
        "li.append(3)\n",
        "\n",
        "print(li)"
      ],
      "execution_count": null,
      "outputs": [
        {
          "output_type": "stream",
          "text": [
            "[1, 2, 3]\n"
          ],
          "name": "stdout"
        }
      ]
    },
    {
      "cell_type": "code",
      "metadata": {
        "id": "ErqJxZzLouhd",
        "outputId": "0242e5d8-4e81-4ea2-b543-df5d8b4c6b7f"
      },
      "source": [
        "# We can add elements of different types as well\n",
        "\n",
        "li.append('batman')\n",
        "li.append('superman')\n",
        "\n",
        "print(li)"
      ],
      "execution_count": null,
      "outputs": [
        {
          "output_type": "stream",
          "text": [
            "[1, 2, 3, 'batman', 'superman']\n"
          ],
          "name": "stdout"
        }
      ]
    },
    {
      "cell_type": "code",
      "metadata": {
        "id": "dlUNCJUQouhf",
        "outputId": "5cf73041-9c68-41cf-f5f2-13bb94bd35ed"
      },
      "source": [
        "# To access any element in a list, we simply index it using its position\n",
        "# Remember indexing starts from 0\n",
        "\n",
        "\n",
        "# let us fetch the record superman\n",
        "\n",
        "print(li[4]) "
      ],
      "execution_count": null,
      "outputs": [
        {
          "output_type": "stream",
          "text": [
            "superman\n"
          ],
          "name": "stdout"
        }
      ]
    },
    {
      "cell_type": "code",
      "metadata": {
        "id": "W0AiFQa5ouhg",
        "outputId": "d0bac760-47d0-4ddd-b50f-9ce13be4b175"
      },
      "source": [
        "# We can change any entry in the list using the = operator\n",
        "\n",
        "\n",
        "li[4] = 'aquaman'\n",
        "\n",
        "print(li)"
      ],
      "execution_count": null,
      "outputs": [
        {
          "output_type": "stream",
          "text": [
            "[1, 2, 3, 'batman', 'aquaman']\n"
          ],
          "name": "stdout"
        }
      ]
    },
    {
      "cell_type": "code",
      "metadata": {
        "id": "NjmRB4unouhh",
        "outputId": "4635d755-7f07-44f2-cc61-9e5836a598b6"
      },
      "source": [
        "# Tuples - Just like lists tuples also are a collection of data points. But once created we cannot modify them(like add,update)\n",
        "\n",
        "tu = (1,2,3)\n",
        "print(tu)\n",
        "\n",
        "print(hex(id(tu))) # Notice the address here"
      ],
      "execution_count": null,
      "outputs": [
        {
          "output_type": "stream",
          "text": [
            "(1, 2, 3)\n",
            "0x1a37693e1d8\n"
          ],
          "name": "stdout"
        }
      ]
    },
    {
      "cell_type": "code",
      "metadata": {
        "id": "QKES4gKWouhj"
      },
      "source": [
        "tu = tu + (4,) # We can merge tuples but it creates a new one actually internally"
      ],
      "execution_count": null,
      "outputs": []
    },
    {
      "cell_type": "code",
      "metadata": {
        "id": "xWi4GLpoouhk",
        "outputId": "0e8f2734-0d4f-4b7f-d4bb-fba27acb5298"
      },
      "source": [
        "tu"
      ],
      "execution_count": null,
      "outputs": [
        {
          "output_type": "execute_result",
          "data": {
            "text/plain": [
              "(1, 2, 3, 4)"
            ]
          },
          "metadata": {
            "tags": []
          },
          "execution_count": 25
        }
      ]
    },
    {
      "cell_type": "code",
      "metadata": {
        "id": "rEbpf4r5ouhm",
        "outputId": "2ef4bff2-1ed9-46fb-80f4-ec2e7f316269"
      },
      "source": [
        "hex(id(tu)) # see this is a new address"
      ],
      "execution_count": null,
      "outputs": [
        {
          "output_type": "execute_result",
          "data": {
            "text/plain": [
              "'0x1a376abf2c8'"
            ]
          },
          "metadata": {
            "tags": []
          },
          "execution_count": 26
        }
      ]
    },
    {
      "cell_type": "code",
      "metadata": {
        "id": "gI-bGQFjouhn",
        "outputId": "84772a9f-8379-47e3-f80c-5854b3cad167"
      },
      "source": [
        "# Set - Collection of elements again. But set only stores unique elements\n",
        "\n",
        "\n",
        "st = set()\n",
        "st.add(1)\n",
        "st.add(1)\n",
        "st.add(2)\n",
        "st.add(3)\n",
        "\n",
        "print(st)"
      ],
      "execution_count": null,
      "outputs": [
        {
          "output_type": "stream",
          "text": [
            "{1, 2, 3}\n"
          ],
          "name": "stdout"
        }
      ]
    },
    {
      "cell_type": "code",
      "metadata": {
        "id": "Zms4hzzdouho",
        "outputId": "9e1d6847-a918-4ba2-8c30-cc55a4154231"
      },
      "source": [
        "# Dictionary stores the elements in a key value pair.\n",
        "\n",
        "mapper = {}\n",
        "\n",
        "mapper['dc'] = 'batman'\n",
        "mapper['marvel'] = 'wolverine'\n",
        "mapper['starwars'] = 'anakin'\n",
        "\n",
        "\n",
        "print(mapper)"
      ],
      "execution_count": null,
      "outputs": [
        {
          "output_type": "stream",
          "text": [
            "{'dc': 'batman', 'marvel': 'wolverine', 'starwars': 'anakin'}\n"
          ],
          "name": "stdout"
        }
      ]
    },
    {
      "cell_type": "code",
      "metadata": {
        "id": "5uX8Ogn4ouhq",
        "outputId": "4374e231-8342-4a4c-c2d8-c1bb4cbe3b7b"
      },
      "source": [
        "# Looping in the elements\n",
        "\n",
        "for k,v in mapper.items():\n",
        "    print(k,v)"
      ],
      "execution_count": null,
      "outputs": [
        {
          "output_type": "stream",
          "text": [
            "dc batman\n",
            "marvel wolverine\n",
            "starwars anakin\n"
          ],
          "name": "stdout"
        }
      ]
    },
    {
      "cell_type": "code",
      "metadata": {
        "id": "YPmCRjNgouhq",
        "outputId": "b61ac202-c964-4d01-e404-169723df6954"
      },
      "source": [
        "# Let's see the keys and values of the mapper\n",
        "\n",
        "print(mapper.keys())\n",
        "print(mapper.values())"
      ],
      "execution_count": null,
      "outputs": [
        {
          "output_type": "stream",
          "text": [
            "dict_keys(['dc', 'marvel', 'starwars'])\n",
            "dict_values(['batman', 'wolverine', 'anakin'])\n"
          ],
          "name": "stdout"
        }
      ]
    },
    {
      "cell_type": "code",
      "metadata": {
        "id": "JWPNf4xeouhr"
      },
      "source": [
        ""
      ],
      "execution_count": null,
      "outputs": []
    }
  ]
}